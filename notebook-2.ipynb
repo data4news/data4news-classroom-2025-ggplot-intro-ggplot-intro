{
 "cells": [
  {
   "cell_type": "markdown",
   "metadata": {},
   "source": [
    "# Plotting univariate data in ggplot\n",
    "\n",
    "Updating notebook 1 to also include `borough`."
   ]
  },
  {
   "cell_type": "markdown",
   "metadata": {},
   "source": [
    "### Python and R Setup\n",
    "\n",
    "This setup allows you to use *Python* and *R* in the same notebook.\n",
    "\n",
    "To set up a similar notebook, see quickstart instructions here:\n",
    "\n",
    "https://github.com/dmil/jupyter-quickstart\n",
    "\n"
   ]
  },
  {
   "cell_type": "code",
   "execution_count": 1,
   "metadata": {},
   "outputs": [],
   "source": [
    "%load_ext rpy2.ipython\n",
    "%load_ext autoreload\n",
    "%autoreload 2\n",
    "\n",
    "%matplotlib inline  \n",
    "from matplotlib import rcParams\n",
    "rcParams['figure.figsize'] = (16, 100)\n",
    "\n",
    "import warnings\n",
    "from rpy2.rinterface import RRuntimeWarning\n",
    "warnings.filterwarnings(\"ignore\") # Ignore all warnings\n",
    "# warnings.filterwarnings(\"ignore\", category=RRuntimeWarning) # Show some warnings\n",
    "\n",
    "import pandas as pd\n",
    "import numpy as np\n",
    "import matplotlib.pyplot as plt\n",
    "from IPython.display import display, HTML"
   ]
  },
  {
   "cell_type": "code",
   "execution_count": 2,
   "metadata": {},
   "outputs": [
    {
     "data": {
      "application/javascript": [
       "// Disable auto-scrolling\n",
       "IPython.OutputArea.prototype._should_scroll = function(lines) {\n",
       "    return false;\n",
       "}\n"
      ],
      "text/plain": [
       "<IPython.core.display.Javascript object>"
      ]
     },
     "metadata": {},
     "output_type": "display_data"
    }
   ],
   "source": [
    "%%javascript\n",
    "// Disable auto-scrolling\n",
    "IPython.OutputArea.prototype._should_scroll = function(lines) {\n",
    "    return false;\n",
    "}"
   ]
  },
  {
   "cell_type": "markdown",
   "metadata": {},
   "source": [
    "### Import packages in R"
   ]
  },
  {
   "cell_type": "code",
   "execution_count": null,
   "metadata": {},
   "outputs": [
    {
     "name": "stderr",
     "output_type": "stream",
     "text": [
      "R[write to console]: Loading required package: tidyverse\n",
      "\n"
     ]
    },
    {
     "name": "stdout",
     "output_type": "stream",
     "text": [
      "── Attaching packages ─────────────────────────────────────── tidyverse 1.3.2 ──\n",
      "✔ ggplot2 3.4.0      ✔ purrr   0.3.4 \n",
      "✔ tibble  3.1.8      ✔ dplyr   1.0.10\n",
      "✔ tidyr   1.1.4      ✔ stringr 1.4.0 \n",
      "✔ readr   2.1.3      ✔ forcats 0.5.1 \n"
     ]
    }
   ],
   "source": [
    "%%R\n",
    "\n",
    "require('tidyverse')\n"
   ]
  },
  {
   "cell_type": "markdown",
   "metadata": {},
   "source": [
    "### Read data"
   ]
  },
  {
   "cell_type": "code",
   "execution_count": null,
   "metadata": {},
   "outputs": [],
   "source": [
    "%%R\n",
    "\n",
    "# Read data\n",
    "df <- read_csv('housing_data.csv')\n",
    "df"
   ]
  },
  {
   "cell_type": "markdown",
   "metadata": {},
   "source": [
    "### Histogram\n",
    "\n",
    "👉 Try It\n",
    "\n",
    "Grab your histogram code from the previous exercise (or just use the sample below) \n",
    "\n",
    "- modify the code to plot one histogram per borough \n",
    "- add a meaningful title and subtitle and axis labels\n",
    "\n",
    "_(hint: this may require you to look up how `facet_wrap` works)._"
   ]
  },
  {
   "cell_type": "code",
   "execution_count": null,
   "metadata": {},
   "outputs": [],
   "source": [
    "%%R \n",
    "\n",
    "ggplot(df) + \n",
    "    aes(x=pct_below_poverty) +\n",
    "    geom_histogram() "
   ]
  },
  {
   "cell_type": "markdown",
   "metadata": {},
   "source": [
    "### Dotplot"
   ]
  },
  {
   "cell_type": "markdown",
   "metadata": {},
   "source": [
    "👉 Try It\n",
    "\n",
    "Grab your dotplot code from the previous exercise (or just use the sample below) \n",
    "\n",
    "- modify the code to plot one plot per borough \n",
    "- add a meaningful title and subtitle and axis labels\n",
    "\n",
    "_(hint: you might want to change the `y` aesthetic instead of using `facet_wrap`)._"
   ]
  },
  {
   "cell_type": "code",
   "execution_count": null,
   "metadata": {},
   "outputs": [],
   "source": [
    "%%R -w 1000 -h 200\n",
    "\n",
    "ggplot(df) + \n",
    "    aes(x=pct_below_poverty, y=1) +\n",
    "    geom_point(alpha=.3, size=10)"
   ]
  },
  {
   "cell_type": "markdown",
   "metadata": {},
   "source": [
    "### Dotplot (with jitter)"
   ]
  },
  {
   "cell_type": "markdown",
   "metadata": {},
   "source": [
    "👉 Try It\n",
    "\n",
    "Grab your dotplot code from the previous exercise (or just use the sample below) \n",
    "\n",
    "- modify the code to plot one plot per borough \n",
    "- add a meaningful title and subtitle and axis labels\n",
    "\n",
    "_(hint: you might also need to mess with the y axis, but also the colors of the dots)._"
   ]
  },
  {
   "cell_type": "code",
   "execution_count": null,
   "metadata": {},
   "outputs": [],
   "source": [
    "%%R -w 1000 -h 200\n",
    "\n",
    "ggplot(df) + \n",
    "    aes(x=pct_below_poverty, y=1) +\n",
    "    geom_jitter()"
   ]
  },
  {
   "cell_type": "markdown",
   "metadata": {},
   "source": [
    "### Density Plot"
   ]
  },
  {
   "cell_type": "markdown",
   "metadata": {},
   "source": [
    "👉 Try It\n",
    "\n",
    "Grab your density plot code from the previous exercise (or just use the sample below)\n",
    "\n",
    "- modify the code to plot one plot per borough\n"
   ]
  },
  {
   "cell_type": "code",
   "execution_count": null,
   "metadata": {},
   "outputs": [],
   "source": [
    "%%R -w 1000 -h 200\n",
    "ggplot(df) + \n",
    "    aes(x=pct_below_poverty) +\n",
    "    geom_density()"
   ]
  },
  {
   "cell_type": "markdown",
   "metadata": {},
   "source": [
    "### Box and Whisker Plot\n",
    "http://www.sthda.com/english/wiki/ggplot2-box-plot-quick-start-guide-r-software-and-data-visualization\n",
    "\n"
   ]
  },
  {
   "cell_type": "markdown",
   "metadata": {},
   "source": [
    "👉 Try It\n",
    "\n",
    "Grab your box and whisker plot code from the previous exercise (or just use the sample below)\n",
    "\n",
    "- modify the code to plot one plot per borough\n",
    "- add a title and subtitle that helps tell a story with this chart\n",
    "\n",
    "👉 Bonus\n",
    "- see if you can annotate the biggest oulier\n"
   ]
  },
  {
   "cell_type": "code",
   "execution_count": null,
   "metadata": {},
   "outputs": [],
   "source": [
    "%%R -w 1000 -h 200\n",
    "\n",
    "ggplot(df) + \n",
    "    aes(x=pct_below_poverty, y=1) +\n",
    "    geom_boxplot(alpha=.2,outlier.size=10)"
   ]
  },
  {
   "cell_type": "markdown",
   "metadata": {},
   "source": [
    "### Violin Plot"
   ]
  },
  {
   "cell_type": "markdown",
   "metadata": {},
   "source": [
    "👉 Try It\n",
    "\n",
    "Grab your violin plot code from the previous exercise (or just use the sample below)\n",
    "\n",
    "- modify the code to plot one plot per borough\n",
    "- write about how this chart looks different from the box and whisker plot and for what purpose it may be more useful\n",
    "> write your answer here\n",
    "\n"
   ]
  },
  {
   "cell_type": "code",
   "execution_count": null,
   "metadata": {},
   "outputs": [],
   "source": [
    "%%R -w 1000 -h 200\n",
    "\n",
    "ggplot(df) + \n",
    "    aes(x=pct_below_poverty, y=1) +\n",
    "    geom_violin()"
   ]
  },
  {
   "cell_type": "markdown",
   "metadata": {},
   "source": [
    "### Beeswarm \n",
    "👉 Bonus\n",
    "\n",
    "Grab your beeswarm code from the previous exercise\n",
    "\n",
    "- modify the code to plot one plot per borough\n",
    "- add a title and subtitle that helps tell a story with this chart"
   ]
  }
 ],
 "metadata": {
  "kernelspec": {
   "display_name": "Python 3 (ipykernel)",
   "language": "python",
   "name": "python3"
  },
  "language_info": {
   "codemirror_mode": {
    "name": "ipython",
    "version": 3
   },
   "file_extension": ".py",
   "mimetype": "text/x-python",
   "name": "python",
   "nbconvert_exporter": "python",
   "pygments_lexer": "ipython3",
   "version": "3.9.7"
  }
 },
 "nbformat": 4,
 "nbformat_minor": 2
}
